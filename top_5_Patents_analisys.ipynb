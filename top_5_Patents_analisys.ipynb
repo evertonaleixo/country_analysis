{
 "cells": [
  {
   "cell_type": "code",
   "execution_count": 1,
   "metadata": {
    "collapsed": true
   },
   "outputs": [],
   "source": [
    "import numpy as np\n",
    "import pandas as pd"
   ]
  },
  {
   "cell_type": "code",
   "execution_count": 2,
   "metadata": {
    "collapsed": false
   },
   "outputs": [],
   "source": [
    "data = pd.read_csv('./data/top_5_patents_1990-2015.csv')"
   ]
  },
  {
   "cell_type": "code",
   "execution_count": 3,
   "metadata": {
    "collapsed": false
   },
   "outputs": [
    {
     "data": {
      "text/html": [
       "<div>\n",
       "<table border=\"1\" class=\"dataframe\">\n",
       "  <thead>\n",
       "    <tr style=\"text-align: right;\">\n",
       "      <th></th>\n",
       "      <th>Ano</th>\n",
       "      <th>China</th>\n",
       "      <th>Estados Unidos</th>\n",
       "      <th>Japão</th>\n",
       "      <th>Korea</th>\n",
       "      <th>Alemanha</th>\n",
       "      <th>Brasil</th>\n",
       "    </tr>\n",
       "  </thead>\n",
       "  <tbody>\n",
       "    <tr>\n",
       "      <th>0</th>\n",
       "      <td>2000</td>\n",
       "      <td>26445</td>\n",
       "      <td>280390</td>\n",
       "      <td>490776</td>\n",
       "      <td>85783</td>\n",
       "      <td>134691</td>\n",
       "      <td>3782</td>\n",
       "    </tr>\n",
       "    <tr>\n",
       "      <th>1</th>\n",
       "      <td>2001</td>\n",
       "      <td>31239</td>\n",
       "      <td>293805</td>\n",
       "      <td>508503</td>\n",
       "      <td>88405</td>\n",
       "      <td>138280</td>\n",
       "      <td>3951</td>\n",
       "    </tr>\n",
       "    <tr>\n",
       "      <th>2</th>\n",
       "      <td>2002</td>\n",
       "      <td>41418</td>\n",
       "      <td>291806</td>\n",
       "      <td>483806</td>\n",
       "      <td>94248</td>\n",
       "      <td>132836</td>\n",
       "      <td>4031</td>\n",
       "    </tr>\n",
       "    <tr>\n",
       "      <th>3</th>\n",
       "      <td>2003</td>\n",
       "      <td>58757</td>\n",
       "      <td>301737</td>\n",
       "      <td>484943</td>\n",
       "      <td>112754</td>\n",
       "      <td>134631</td>\n",
       "      <td>4451</td>\n",
       "    </tr>\n",
       "    <tr>\n",
       "      <th>4</th>\n",
       "      <td>2004</td>\n",
       "      <td>69017</td>\n",
       "      <td>330854</td>\n",
       "      <td>510023</td>\n",
       "      <td>136438</td>\n",
       "      <td>146046</td>\n",
       "      <td>4814</td>\n",
       "    </tr>\n",
       "    <tr>\n",
       "      <th>5</th>\n",
       "      <td>2005</td>\n",
       "      <td>97948</td>\n",
       "      <td>383242</td>\n",
       "      <td>530005</td>\n",
       "      <td>162694</td>\n",
       "      <td>153634</td>\n",
       "      <td>4920</td>\n",
       "    </tr>\n",
       "    <tr>\n",
       "      <th>6</th>\n",
       "      <td>2006</td>\n",
       "      <td>129290</td>\n",
       "      <td>404260</td>\n",
       "      <td>517486</td>\n",
       "      <td>173301</td>\n",
       "      <td>160589</td>\n",
       "      <td>4969</td>\n",
       "    </tr>\n",
       "    <tr>\n",
       "      <th>7</th>\n",
       "      <td>2007</td>\n",
       "      <td>161308</td>\n",
       "      <td>437353</td>\n",
       "      <td>508263</td>\n",
       "      <td>176336</td>\n",
       "      <td>163779</td>\n",
       "      <td>5393</td>\n",
       "    </tr>\n",
       "    <tr>\n",
       "      <th>8</th>\n",
       "      <td>2008</td>\n",
       "      <td>204268</td>\n",
       "      <td>428881</td>\n",
       "      <td>509990</td>\n",
       "      <td>173496</td>\n",
       "      <td>171835</td>\n",
       "      <td>5521</td>\n",
       "    </tr>\n",
       "    <tr>\n",
       "      <th>9</th>\n",
       "      <td>2009</td>\n",
       "      <td>241434</td>\n",
       "      <td>397919</td>\n",
       "      <td>463601</td>\n",
       "      <td>170233</td>\n",
       "      <td>162332</td>\n",
       "      <td>5420</td>\n",
       "    </tr>\n",
       "    <tr>\n",
       "      <th>10</th>\n",
       "      <td>2010</td>\n",
       "      <td>308326</td>\n",
       "      <td>433199</td>\n",
       "      <td>468417</td>\n",
       "      <td>178654</td>\n",
       "      <td>173619</td>\n",
       "      <td>5735</td>\n",
       "    </tr>\n",
       "    <tr>\n",
       "      <th>11</th>\n",
       "      <td>2011</td>\n",
       "      <td>436170</td>\n",
       "      <td>440632</td>\n",
       "      <td>475051</td>\n",
       "      <td>187747</td>\n",
       "      <td>175606</td>\n",
       "      <td>6359</td>\n",
       "    </tr>\n",
       "    <tr>\n",
       "      <th>12</th>\n",
       "      <td>2012</td>\n",
       "      <td>561408</td>\n",
       "      <td>473489</td>\n",
       "      <td>490271</td>\n",
       "      <td>203836</td>\n",
       "      <td>183048</td>\n",
       "      <td>6603</td>\n",
       "    </tr>\n",
       "    <tr>\n",
       "      <th>13</th>\n",
       "      <td>2013</td>\n",
       "      <td>734096</td>\n",
       "      <td>501162</td>\n",
       "      <td>473141</td>\n",
       "      <td>223527</td>\n",
       "      <td>184493</td>\n",
       "      <td>6848</td>\n",
       "    </tr>\n",
       "    <tr>\n",
       "      <th>14</th>\n",
       "      <td>2014</td>\n",
       "      <td>837817</td>\n",
       "      <td>509521</td>\n",
       "      <td>465971</td>\n",
       "      <td>230553</td>\n",
       "      <td>179506</td>\n",
       "      <td>6712</td>\n",
       "    </tr>\n",
       "    <tr>\n",
       "      <th>15</th>\n",
       "      <td>2015</td>\n",
       "      <td>1010615</td>\n",
       "      <td>530662</td>\n",
       "      <td>457952</td>\n",
       "      <td>238185</td>\n",
       "      <td>175423</td>\n",
       "      <td>6570</td>\n",
       "    </tr>\n",
       "  </tbody>\n",
       "</table>\n",
       "</div>"
      ],
      "text/plain": [
       "     Ano    China  Estados Unidos   Japão   Korea  Alemanha  Brasil\n",
       "0   2000    26445          280390  490776   85783    134691    3782\n",
       "1   2001    31239          293805  508503   88405    138280    3951\n",
       "2   2002    41418          291806  483806   94248    132836    4031\n",
       "3   2003    58757          301737  484943  112754    134631    4451\n",
       "4   2004    69017          330854  510023  136438    146046    4814\n",
       "5   2005    97948          383242  530005  162694    153634    4920\n",
       "6   2006   129290          404260  517486  173301    160589    4969\n",
       "7   2007   161308          437353  508263  176336    163779    5393\n",
       "8   2008   204268          428881  509990  173496    171835    5521\n",
       "9   2009   241434          397919  463601  170233    162332    5420\n",
       "10  2010   308326          433199  468417  178654    173619    5735\n",
       "11  2011   436170          440632  475051  187747    175606    6359\n",
       "12  2012   561408          473489  490271  203836    183048    6603\n",
       "13  2013   734096          501162  473141  223527    184493    6848\n",
       "14  2014   837817          509521  465971  230553    179506    6712\n",
       "15  2015  1010615          530662  457952  238185    175423    6570"
      ]
     },
     "execution_count": 3,
     "metadata": {},
     "output_type": "execute_result"
    }
   ],
   "source": [
    "data"
   ]
  },
  {
   "cell_type": "code",
   "execution_count": 4,
   "metadata": {
    "collapsed": false
   },
   "outputs": [],
   "source": [
    "import matplotlib.pyplot as plt\n",
    "\n",
    "% matplotlib inline"
   ]
  },
  {
   "cell_type": "code",
   "execution_count": 5,
   "metadata": {
    "collapsed": false
   },
   "outputs": [
    {
     "data": {
      "text/plain": [
       "<matplotlib.legend.Legend at 0x12455bb70>"
      ]
     },
     "execution_count": 5,
     "metadata": {},
     "output_type": "execute_result"
    },
    {
     "data": {
      "text/plain": [
       "<matplotlib.figure.Figure at 0x12455bba8>"
      ]
     },
     "metadata": {},
     "output_type": "display_data"
    },
    {
     "data": {
      "image/png": "[encoded data removed]",
      "text/plain": [
       "<matplotlib.figure.Figure at 0x124569630>"
      ]
     },
     "metadata": {},
     "output_type": "display_data"
    }
   ],
   "source": [
    "plt.figure();\n",
    "data.plot(x='Ano', **{'fontsize':12}).legend(loc='center left', bbox_to_anchor=(1, 0.5))"
   ]
  },
  {
   "cell_type": "code",
   "execution_count": null,
   "metadata": {
    "collapsed": true
   },
   "outputs": [],
   "source": []
  }
 ],
 "metadata": {
  "anaconda-cloud": {},
  "kernelspec": {
   "display_name": "Python [Root]",
   "language": "python",
   "name": "Python [Root]"
  },
  "language_info": {
   "codemirror_mode": {
    "name": "ipython",
    "version": 3
   },
   "file_extension": ".py",
   "mimetype": "text/x-python",
   "name": "python",
   "nbconvert_exporter": "python",
   "pygments_lexer": "ipython3",
   "version": "3.5.2"
  }
 },
 "nbformat": 4,
 "nbformat_minor": 0
}
