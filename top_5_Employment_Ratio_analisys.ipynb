{
 "cells": [
  {
   "cell_type": "code",
   "execution_count": 1,
   "metadata": {
    "collapsed": true
   },
   "outputs": [],
   "source": [
    "import numpy as np\n",
    "import pandas as pd"
   ]
  },
  {
   "cell_type": "code",
   "execution_count": 2,
   "metadata": {
    "collapsed": false
   },
   "outputs": [],
   "source": [
    "data = pd.read_csv('./data/top_5_employment_ratio_1990-2015.csv')"
   ]
  },
  {
   "cell_type": "code",
   "execution_count": 3,
   "metadata": {
    "collapsed": false
   },
   "outputs": [
    {
     "data": {
      "text/html": [
       "<div>\n",
       "<table border=\"1\" class=\"dataframe\">\n",
       "  <thead>\n",
       "    <tr style=\"text-align: right;\">\n",
       "      <th></th>\n",
       "      <th>Ano</th>\n",
       "      <th>Suíça</th>\n",
       "      <th>Singapora</th>\n",
       "      <th>Noruega</th>\n",
       "      <th>Austrália</th>\n",
       "      <th>Dinamarca</th>\n",
       "      <th>Alemanha</th>\n",
       "      <th>Brasil</th>\n",
       "    </tr>\n",
       "  </thead>\n",
       "  <tbody>\n",
       "    <tr>\n",
       "      <th>0</th>\n",
       "      <td>1995</td>\n",
       "      <td>65.1</td>\n",
       "      <td>62.8</td>\n",
       "      <td>58.7</td>\n",
       "      <td>58.4</td>\n",
       "      <td>60.7</td>\n",
       "      <td>53.7</td>\n",
       "      <td>65.3</td>\n",
       "    </tr>\n",
       "    <tr>\n",
       "      <th>1</th>\n",
       "      <td>2000</td>\n",
       "      <td>65.5</td>\n",
       "      <td>63.0</td>\n",
       "      <td>63.8</td>\n",
       "      <td>59.5</td>\n",
       "      <td>62.8</td>\n",
       "      <td>53.9</td>\n",
       "      <td>58.3</td>\n",
       "    </tr>\n",
       "    <tr>\n",
       "      <th>2</th>\n",
       "      <td>2005</td>\n",
       "      <td>64.1</td>\n",
       "      <td>62.3</td>\n",
       "      <td>62.5</td>\n",
       "      <td>61.3</td>\n",
       "      <td>62.7</td>\n",
       "      <td>51.9</td>\n",
       "      <td>63.9</td>\n",
       "    </tr>\n",
       "    <tr>\n",
       "      <th>3</th>\n",
       "      <td>2010</td>\n",
       "      <td>64.8</td>\n",
       "      <td>65.1</td>\n",
       "      <td>63.4</td>\n",
       "      <td>62.1</td>\n",
       "      <td>59.5</td>\n",
       "      <td>55.2</td>\n",
       "      <td>63.4</td>\n",
       "    </tr>\n",
       "    <tr>\n",
       "      <th>4</th>\n",
       "      <td>2011</td>\n",
       "      <td>65.4</td>\n",
       "      <td>65.5</td>\n",
       "      <td>63.3</td>\n",
       "      <td>62.3</td>\n",
       "      <td>59.1</td>\n",
       "      <td>56.5</td>\n",
       "      <td>63.1</td>\n",
       "    </tr>\n",
       "    <tr>\n",
       "      <th>5</th>\n",
       "      <td>2012</td>\n",
       "      <td>65.3</td>\n",
       "      <td>66.1</td>\n",
       "      <td>63.5</td>\n",
       "      <td>61.9</td>\n",
       "      <td>58.5</td>\n",
       "      <td>56.7</td>\n",
       "      <td>63.3</td>\n",
       "    </tr>\n",
       "    <tr>\n",
       "      <th>6</th>\n",
       "      <td>2013</td>\n",
       "      <td>65.3</td>\n",
       "      <td>65.6</td>\n",
       "      <td>62.9</td>\n",
       "      <td>61.3</td>\n",
       "      <td>58.0</td>\n",
       "      <td>57.1</td>\n",
       "      <td>62.7</td>\n",
       "    </tr>\n",
       "    <tr>\n",
       "      <th>7</th>\n",
       "      <td>2014</td>\n",
       "      <td>65.6</td>\n",
       "      <td>65.5</td>\n",
       "      <td>62.7</td>\n",
       "      <td>60.8</td>\n",
       "      <td>58.0</td>\n",
       "      <td>57.4</td>\n",
       "      <td>62.7</td>\n",
       "    </tr>\n",
       "  </tbody>\n",
       "</table>\n",
       "</div>"
      ],
      "text/plain": [
       "    Ano  Suíça  Singapora  Noruega  Austrália  Dinamarca  Alemanha  Brasil\n",
       "0  1995   65.1       62.8     58.7       58.4       60.7      53.7    65.3\n",
       "1  2000   65.5       63.0     63.8       59.5       62.8      53.9    58.3\n",
       "2  2005   64.1       62.3     62.5       61.3       62.7      51.9    63.9\n",
       "3  2010   64.8       65.1     63.4       62.1       59.5      55.2    63.4\n",
       "4  2011   65.4       65.5     63.3       62.3       59.1      56.5    63.1\n",
       "5  2012   65.3       66.1     63.5       61.9       58.5      56.7    63.3\n",
       "6  2013   65.3       65.6     62.9       61.3       58.0      57.1    62.7\n",
       "7  2014   65.6       65.5     62.7       60.8       58.0      57.4    62.7"
      ]
     },
     "execution_count": 3,
     "metadata": {},
     "output_type": "execute_result"
    }
   ],
   "source": [
    "data"
   ]
  },
  {
   "cell_type": "code",
   "execution_count": 4,
   "metadata": {
    "collapsed": false
   },
   "outputs": [],
   "source": [
    "import matplotlib.pyplot as plt\n",
    "\n",
    "% matplotlib inline"
   ]
  },
  {
   "cell_type": "code",
   "execution_count": 5,
   "metadata": {
    "collapsed": false
   },
   "outputs": [
    {
     "data": {
      "text/plain": [
       "<matplotlib.legend.Legend at 0x1212aea90>"
      ]
     },
     "execution_count": 5,
     "metadata": {},
     "output_type": "execute_result"
    },
    {
     "data": {
      "text/plain": [
       "<matplotlib.figure.Figure at 0x1212aeac8>"
      ]
     },
     "metadata": {},
     "output_type": "display_data"
    },
    {
     "data": {
      "image/png": "[encoded data removed]",
      "text/plain": [
       "<matplotlib.figure.Figure at 0x1212bd550>"
      ]
     },
     "metadata": {},
     "output_type": "display_data"
    }
   ],
   "source": [
    "plt.figure();\n",
    "data.plot(x='Ano', **{'fontsize':12}).legend(loc='center left', bbox_to_anchor=(1, 0.5))"
   ]
  },
  {
   "cell_type": "code",
   "execution_count": null,
   "metadata": {
    "collapsed": true
   },
   "outputs": [],
   "source": []
  }
 ],
 "metadata": {
  "anaconda-cloud": {},
  "kernelspec": {
   "display_name": "Python [Root]",
   "language": "python",
   "name": "Python [Root]"
  },
  "language_info": {
   "codemirror_mode": {
    "name": "ipython",
    "version": 3
   },
   "file_extension": ".py",
   "mimetype": "text/x-python",
   "name": "python",
   "nbconvert_exporter": "python",
   "pygments_lexer": "ipython3",
   "version": "3.5.2"
  }
 },
 "nbformat": 4,
 "nbformat_minor": 0
}
