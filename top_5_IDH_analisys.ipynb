{
 "cells": [
  {
   "cell_type": "code",
   "execution_count": 1,
   "metadata": {
    "collapsed": true
   },
   "outputs": [],
   "source": [
    "import numpy as np\n",
    "import pandas as pd"
   ]
  },
  {
   "cell_type": "code",
   "execution_count": 106,
   "metadata": {
    "collapsed": false
   },
   "outputs": [],
   "source": [
    "data = pd.read_csv('./data/top_5_idh_1990-2015.csv')"
   ]
  },
  {
   "cell_type": "code",
   "execution_count": 107,
   "metadata": {
    "collapsed": false
   },
   "outputs": [
    {
     "data": {
      "text/html": [
       "<div>\n",
       "<table border=\"1\" class=\"dataframe\">\n",
       "  <thead>\n",
       "    <tr style=\"text-align: right;\">\n",
       "      <th></th>\n",
       "      <th>year</th>\n",
       "      <th>Norway</th>\n",
       "      <th>Australia</th>\n",
       "      <th>Switzerland</th>\n",
       "      <th>Germany</th>\n",
       "      <th>Denmark</th>\n",
       "    </tr>\n",
       "  </thead>\n",
       "  <tbody>\n",
       "    <tr>\n",
       "      <th>0</th>\n",
       "      <td>1990</td>\n",
       "      <td>0.8490</td>\n",
       "      <td>0.866</td>\n",
       "      <td>0.831</td>\n",
       "      <td>0.801</td>\n",
       "      <td>0.799</td>\n",
       "    </tr>\n",
       "    <tr>\n",
       "      <th>1</th>\n",
       "      <td>1991</td>\n",
       "      <td>0.8550</td>\n",
       "      <td>0.867</td>\n",
       "      <td>0.833</td>\n",
       "      <td>0.809</td>\n",
       "      <td>0.803</td>\n",
       "    </tr>\n",
       "    <tr>\n",
       "      <th>2</th>\n",
       "      <td>1992</td>\n",
       "      <td>0.8620</td>\n",
       "      <td>0.871</td>\n",
       "      <td>0.835</td>\n",
       "      <td>0.814</td>\n",
       "      <td>0.808</td>\n",
       "    </tr>\n",
       "    <tr>\n",
       "      <th>3</th>\n",
       "      <td>1993</td>\n",
       "      <td>0.8700</td>\n",
       "      <td>0.874</td>\n",
       "      <td>0.840</td>\n",
       "      <td>0.822</td>\n",
       "      <td>0.815</td>\n",
       "    </tr>\n",
       "    <tr>\n",
       "      <th>4</th>\n",
       "      <td>1994</td>\n",
       "      <td>0.8840</td>\n",
       "      <td>0.876</td>\n",
       "      <td>0.842</td>\n",
       "      <td>0.828</td>\n",
       "      <td>0.823</td>\n",
       "    </tr>\n",
       "    <tr>\n",
       "      <th>5</th>\n",
       "      <td>1995</td>\n",
       "      <td>0.8830</td>\n",
       "      <td>0.885</td>\n",
       "      <td>0.846</td>\n",
       "      <td>0.834</td>\n",
       "      <td>0.830</td>\n",
       "    </tr>\n",
       "    <tr>\n",
       "      <th>6</th>\n",
       "      <td>1996</td>\n",
       "      <td>0.8880</td>\n",
       "      <td>0.888</td>\n",
       "      <td>0.853</td>\n",
       "      <td>0.840</td>\n",
       "      <td>0.836</td>\n",
       "    </tr>\n",
       "    <tr>\n",
       "      <th>7</th>\n",
       "      <td>1997</td>\n",
       "      <td>0.8950</td>\n",
       "      <td>0.891</td>\n",
       "      <td>0.863</td>\n",
       "      <td>0.845</td>\n",
       "      <td>0.842</td>\n",
       "    </tr>\n",
       "    <tr>\n",
       "      <th>8</th>\n",
       "      <td>1998</td>\n",
       "      <td>0.9060</td>\n",
       "      <td>0.894</td>\n",
       "      <td>0.872</td>\n",
       "      <td>0.850</td>\n",
       "      <td>0.848</td>\n",
       "    </tr>\n",
       "    <tr>\n",
       "      <th>9</th>\n",
       "      <td>1999</td>\n",
       "      <td>0.9110</td>\n",
       "      <td>0.897</td>\n",
       "      <td>0.879</td>\n",
       "      <td>0.855</td>\n",
       "      <td>0.860</td>\n",
       "    </tr>\n",
       "    <tr>\n",
       "      <th>10</th>\n",
       "      <td>2000</td>\n",
       "      <td>0.9170</td>\n",
       "      <td>0.899</td>\n",
       "      <td>0.888</td>\n",
       "      <td>0.860</td>\n",
       "      <td>0.862</td>\n",
       "    </tr>\n",
       "    <tr>\n",
       "      <th>11</th>\n",
       "      <td>2001</td>\n",
       "      <td>0.9160</td>\n",
       "      <td>0.902</td>\n",
       "      <td>0.890</td>\n",
       "      <td>0.867</td>\n",
       "      <td>0.875</td>\n",
       "    </tr>\n",
       "    <tr>\n",
       "      <th>12</th>\n",
       "      <td>2002</td>\n",
       "      <td>0.9180</td>\n",
       "      <td>0.905</td>\n",
       "      <td>0.889</td>\n",
       "      <td>0.872</td>\n",
       "      <td>0.882</td>\n",
       "    </tr>\n",
       "    <tr>\n",
       "      <th>13</th>\n",
       "      <td>2003</td>\n",
       "      <td>0.9240</td>\n",
       "      <td>0.908</td>\n",
       "      <td>0.895</td>\n",
       "      <td>0.877</td>\n",
       "      <td>0.893</td>\n",
       "    </tr>\n",
       "    <tr>\n",
       "      <th>14</th>\n",
       "      <td>2004</td>\n",
       "      <td>0.9290</td>\n",
       "      <td>0.910</td>\n",
       "      <td>0.899</td>\n",
       "      <td>0.884</td>\n",
       "      <td>0.897</td>\n",
       "    </tr>\n",
       "    <tr>\n",
       "      <th>15</th>\n",
       "      <td>2005</td>\n",
       "      <td>0.9310</td>\n",
       "      <td>0.915</td>\n",
       "      <td>0.904</td>\n",
       "      <td>0.892</td>\n",
       "      <td>0.902</td>\n",
       "    </tr>\n",
       "    <tr>\n",
       "      <th>16</th>\n",
       "      <td>2006</td>\n",
       "      <td>0.9340</td>\n",
       "      <td>0.918</td>\n",
       "      <td>0.911</td>\n",
       "      <td>0.898</td>\n",
       "      <td>0.904</td>\n",
       "    </tr>\n",
       "    <tr>\n",
       "      <th>17</th>\n",
       "      <td>2007</td>\n",
       "      <td>0.9360</td>\n",
       "      <td>0.921</td>\n",
       "      <td>0.914</td>\n",
       "      <td>0.903</td>\n",
       "      <td>0.906</td>\n",
       "    </tr>\n",
       "    <tr>\n",
       "      <th>18</th>\n",
       "      <td>2008</td>\n",
       "      <td>0.9360</td>\n",
       "      <td>0.925</td>\n",
       "      <td>0.916</td>\n",
       "      <td>0.906</td>\n",
       "      <td>0.906</td>\n",
       "    </tr>\n",
       "    <tr>\n",
       "      <th>19</th>\n",
       "      <td>2009</td>\n",
       "      <td>0.9360</td>\n",
       "      <td>0.927</td>\n",
       "      <td>0.920</td>\n",
       "      <td>0.907</td>\n",
       "      <td>0.906</td>\n",
       "    </tr>\n",
       "    <tr>\n",
       "      <th>20</th>\n",
       "      <td>2010</td>\n",
       "      <td>0.9390</td>\n",
       "      <td>0.927</td>\n",
       "      <td>0.932</td>\n",
       "      <td>0.912</td>\n",
       "      <td>0.910</td>\n",
       "    </tr>\n",
       "    <tr>\n",
       "      <th>21</th>\n",
       "      <td>2011</td>\n",
       "      <td>0.9410</td>\n",
       "      <td>0.930</td>\n",
       "      <td>0.932</td>\n",
       "      <td>0.916</td>\n",
       "      <td>0.922</td>\n",
       "    </tr>\n",
       "    <tr>\n",
       "      <th>22</th>\n",
       "      <td>2012</td>\n",
       "      <td>0.9420</td>\n",
       "      <td>0.933</td>\n",
       "      <td>0.934</td>\n",
       "      <td>0.919</td>\n",
       "      <td>0.924</td>\n",
       "    </tr>\n",
       "    <tr>\n",
       "      <th>23</th>\n",
       "      <td>2013</td>\n",
       "      <td>0.9450</td>\n",
       "      <td>0.936</td>\n",
       "      <td>0.936</td>\n",
       "      <td>0.920</td>\n",
       "      <td>0.926</td>\n",
       "    </tr>\n",
       "    <tr>\n",
       "      <th>24</th>\n",
       "      <td>2014</td>\n",
       "      <td>0.9480</td>\n",
       "      <td>0.937</td>\n",
       "      <td>0.938</td>\n",
       "      <td>0.924</td>\n",
       "      <td>0.923</td>\n",
       "    </tr>\n",
       "    <tr>\n",
       "      <th>25</th>\n",
       "      <td>2015</td>\n",
       "      <td>0.9492</td>\n",
       "      <td>0.939</td>\n",
       "      <td>0.939</td>\n",
       "      <td>0.926</td>\n",
       "      <td>0.925</td>\n",
       "    </tr>\n",
       "  </tbody>\n",
       "</table>\n",
       "</div>"
      ],
      "text/plain": [
       "    year  Norway  Australia  Switzerland  Germany  Denmark\n",
       "0   1990  0.8490      0.866        0.831    0.801    0.799\n",
       "1   1991  0.8550      0.867        0.833    0.809    0.803\n",
       "2   1992  0.8620      0.871        0.835    0.814    0.808\n",
       "3   1993  0.8700      0.874        0.840    0.822    0.815\n",
       "4   1994  0.8840      0.876        0.842    0.828    0.823\n",
       "5   1995  0.8830      0.885        0.846    0.834    0.830\n",
       "6   1996  0.8880      0.888        0.853    0.840    0.836\n",
       "7   1997  0.8950      0.891        0.863    0.845    0.842\n",
       "8   1998  0.9060      0.894        0.872    0.850    0.848\n",
       "9   1999  0.9110      0.897        0.879    0.855    0.860\n",
       "10  2000  0.9170      0.899        0.888    0.860    0.862\n",
       "11  2001  0.9160      0.902        0.890    0.867    0.875\n",
       "12  2002  0.9180      0.905        0.889    0.872    0.882\n",
       "13  2003  0.9240      0.908        0.895    0.877    0.893\n",
       "14  2004  0.9290      0.910        0.899    0.884    0.897\n",
       "15  2005  0.9310      0.915        0.904    0.892    0.902\n",
       "16  2006  0.9340      0.918        0.911    0.898    0.904\n",
       "17  2007  0.9360      0.921        0.914    0.903    0.906\n",
       "18  2008  0.9360      0.925        0.916    0.906    0.906\n",
       "19  2009  0.9360      0.927        0.920    0.907    0.906\n",
       "20  2010  0.9390      0.927        0.932    0.912    0.910\n",
       "21  2011  0.9410      0.930        0.932    0.916    0.922\n",
       "22  2012  0.9420      0.933        0.934    0.919    0.924\n",
       "23  2013  0.9450      0.936        0.936    0.920    0.926\n",
       "24  2014  0.9480      0.937        0.938    0.924    0.923\n",
       "25  2015  0.9492      0.939        0.939    0.926    0.925"
      ]
     },
     "execution_count": 107,
     "metadata": {},
     "output_type": "execute_result"
    }
   ],
   "source": [
    "data"
   ]
  },
  {
   "cell_type": "code",
   "execution_count": 108,
   "metadata": {
    "collapsed": false
   },
   "outputs": [],
   "source": [
    "import matplotlib.pyplot as plt\n",
    "\n",
    "% matplotlib inline"
   ]
  },
  {
   "cell_type": "code",
   "execution_count": 116,
   "metadata": {
    "collapsed": false
   },
   "outputs": [
    {
     "data": {
      "text/plain": [
       "<matplotlib.axes._subplots.AxesSubplot at 0x1279e79b0>"
      ]
     },
     "execution_count": 116,
     "metadata": {},
     "output_type": "execute_result"
    },
    {
     "data": {
      "image/png": "[encoded data removed]",
      "text/plain": [
       "<matplotlib.figure.Figure at 0x127724c50>"
      ]
     },
     "metadata": {},
     "output_type": "display_data"
    }
   ],
   "source": [
    "data.iloc[:,1:].plot()"
   ]
  },
  {
   "cell_type": "code",
   "execution_count": 117,
   "metadata": {
    "collapsed": false
   },
   "outputs": [
    {
     "data": {
      "text/plain": [
       "<matplotlib.axes._subplots.AxesSubplot at 0x11d68ffd0>"
      ]
     },
     "execution_count": 117,
     "metadata": {},
     "output_type": "execute_result"
    },
    {
     "data": {
      "text/plain": [
       "<matplotlib.figure.Figure at 0x127a5be80>"
      ]
     },
     "metadata": {},
     "output_type": "display_data"
    },
    {
     "data": {
      "image/png": "[encoded data removed]",
      "text/plain": [
       "<matplotlib.figure.Figure at 0x127a59eb8>"
      ]
     },
     "metadata": {},
     "output_type": "display_data"
    }
   ],
   "source": [
    "plt.figure();\n",
    "data.plot(x='year')"
   ]
  },
  {
   "cell_type": "code",
   "execution_count": null,
   "metadata": {
    "collapsed": true
   },
   "outputs": [],
   "source": []
  }
 ],
 "metadata": {
  "kernelspec": {
   "display_name": "Python [Root]",
   "language": "python",
   "name": "Python [Root]"
  },
  "language_info": {
   "codemirror_mode": {
    "name": "ipython",
    "version": 3
   },
   "file_extension": ".py",
   "mimetype": "text/x-python",
   "name": "python",
   "nbconvert_exporter": "python",
   "pygments_lexer": "ipython3",
   "version": "3.5.2"
  }
 },
 "nbformat": 4,
 "nbformat_minor": 0
}
