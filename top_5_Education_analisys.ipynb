{
 "cells": [
  {
   "cell_type": "code",
   "execution_count": 1,
   "metadata": {
    "collapsed": true
   },
   "outputs": [],
   "source": [
    "import numpy as np\n",
    "import pandas as pd"
   ]
  },
  {
   "cell_type": "code",
   "execution_count": 13,
   "metadata": {
    "collapsed": false
   },
   "outputs": [],
   "source": [
    "data = pd.read_csv('./data/top_5_education_1990-2015.csv')"
   ]
  },
  {
   "cell_type": "code",
   "execution_count": 14,
   "metadata": {
    "collapsed": false
   },
   "outputs": [
    {
     "data": {
      "text/html": [
       "<div>\n",
       "<table border=\"1\" class=\"dataframe\">\n",
       "  <thead>\n",
       "    <tr style=\"text-align: right;\">\n",
       "      <th></th>\n",
       "      <th>Ano</th>\n",
       "      <th>Austrália</th>\n",
       "      <th>Dinamarca</th>\n",
       "      <th>Noruega</th>\n",
       "      <th>Alemanha</th>\n",
       "      <th>Suíça</th>\n",
       "      <th>Brasil</th>\n",
       "    </tr>\n",
       "  </thead>\n",
       "  <tbody>\n",
       "    <tr>\n",
       "      <th>0</th>\n",
       "      <td>1990</td>\n",
       "      <td>0.873</td>\n",
       "      <td>0.690</td>\n",
       "      <td>0.772</td>\n",
       "      <td>0.692</td>\n",
       "      <td>0.695</td>\n",
       "      <td>0.463</td>\n",
       "    </tr>\n",
       "    <tr>\n",
       "      <th>1</th>\n",
       "      <td>1995</td>\n",
       "      <td>0.894</td>\n",
       "      <td>0.751</td>\n",
       "      <td>0.826</td>\n",
       "      <td>0.759</td>\n",
       "      <td>0.727</td>\n",
       "      <td>0.523</td>\n",
       "    </tr>\n",
       "    <tr>\n",
       "      <th>2</th>\n",
       "      <td>2000</td>\n",
       "      <td>0.895</td>\n",
       "      <td>0.809</td>\n",
       "      <td>0.888</td>\n",
       "      <td>0.801</td>\n",
       "      <td>0.803</td>\n",
       "      <td>0.584</td>\n",
       "    </tr>\n",
       "    <tr>\n",
       "      <th>3</th>\n",
       "      <td>2005</td>\n",
       "      <td>0.905</td>\n",
       "      <td>0.895</td>\n",
       "      <td>0.896</td>\n",
       "      <td>0.869</td>\n",
       "      <td>0.823</td>\n",
       "      <td>0.587</td>\n",
       "    </tr>\n",
       "    <tr>\n",
       "      <th>4</th>\n",
       "      <td>2010</td>\n",
       "      <td>0.928</td>\n",
       "      <td>0.899</td>\n",
       "      <td>0.906</td>\n",
       "      <td>0.899</td>\n",
       "      <td>0.880</td>\n",
       "      <td>0.617</td>\n",
       "    </tr>\n",
       "    <tr>\n",
       "      <th>5</th>\n",
       "      <td>2011</td>\n",
       "      <td>0.932</td>\n",
       "      <td>0.930</td>\n",
       "      <td>0.908</td>\n",
       "      <td>0.903</td>\n",
       "      <td>0.883</td>\n",
       "      <td>0.626</td>\n",
       "    </tr>\n",
       "    <tr>\n",
       "      <th>6</th>\n",
       "      <td>2012</td>\n",
       "      <td>0.936</td>\n",
       "      <td>0.932</td>\n",
       "      <td>0.907</td>\n",
       "      <td>0.905</td>\n",
       "      <td>0.885</td>\n",
       "      <td>0.633</td>\n",
       "    </tr>\n",
       "    <tr>\n",
       "      <th>7</th>\n",
       "      <td>2013</td>\n",
       "      <td>0.939</td>\n",
       "      <td>0.934</td>\n",
       "      <td>0.914</td>\n",
       "      <td>0.910</td>\n",
       "      <td>0.889</td>\n",
       "      <td>0.664</td>\n",
       "    </tr>\n",
       "    <tr>\n",
       "      <th>8</th>\n",
       "      <td>2014</td>\n",
       "      <td>0.939</td>\n",
       "      <td>0.923</td>\n",
       "      <td>0.916</td>\n",
       "      <td>0.914</td>\n",
       "      <td>0.892</td>\n",
       "      <td>0.677</td>\n",
       "    </tr>\n",
       "    <tr>\n",
       "      <th>9</th>\n",
       "      <td>2015</td>\n",
       "      <td>0.939</td>\n",
       "      <td>0.923</td>\n",
       "      <td>0.916</td>\n",
       "      <td>0.914</td>\n",
       "      <td>0.891</td>\n",
       "      <td>0.681</td>\n",
       "    </tr>\n",
       "  </tbody>\n",
       "</table>\n",
       "</div>"
      ],
      "text/plain": [
       "    Ano  Austrália  Dinamarca  Noruega  Alemanha  Suíça  Brasil\n",
       "0  1990      0.873      0.690    0.772     0.692  0.695   0.463\n",
       "1  1995      0.894      0.751    0.826     0.759  0.727   0.523\n",
       "2  2000      0.895      0.809    0.888     0.801  0.803   0.584\n",
       "3  2005      0.905      0.895    0.896     0.869  0.823   0.587\n",
       "4  2010      0.928      0.899    0.906     0.899  0.880   0.617\n",
       "5  2011      0.932      0.930    0.908     0.903  0.883   0.626\n",
       "6  2012      0.936      0.932    0.907     0.905  0.885   0.633\n",
       "7  2013      0.939      0.934    0.914     0.910  0.889   0.664\n",
       "8  2014      0.939      0.923    0.916     0.914  0.892   0.677\n",
       "9  2015      0.939      0.923    0.916     0.914  0.891   0.681"
      ]
     },
     "execution_count": 14,
     "metadata": {},
     "output_type": "execute_result"
    }
   ],
   "source": [
    "data"
   ]
  },
  {
   "cell_type": "code",
   "execution_count": 15,
   "metadata": {
    "collapsed": false
   },
   "outputs": [],
   "source": [
    "import matplotlib.pyplot as plt\n",
    "\n",
    "% matplotlib inline"
   ]
  },
  {
   "cell_type": "code",
   "execution_count": 17,
   "metadata": {
    "collapsed": false
   },
   "outputs": [
    {
     "data": {
      "text/plain": [
       "<matplotlib.legend.Legend at 0x127a905c0>"
      ]
     },
     "execution_count": 17,
     "metadata": {},
     "output_type": "execute_result"
    },
    {
     "data": {
      "text/plain": [
       "<matplotlib.figure.Figure at 0x127a907b8>"
      ]
     },
     "metadata": {},
     "output_type": "display_data"
    },
    {
     "data": {
      "image/png": "[encoded data removed]",
      "text/plain": [
       "<matplotlib.figure.Figure at 0x127776278>"
      ]
     },
     "metadata": {},
     "output_type": "display_data"
    }
   ],
   "source": [
    "plt.figure();\n",
    "data.plot(x='Ano', **{'fontsize':12}).legend(loc='center left', bbox_to_anchor=(1, 0.5))"
   ]
  },
  {
   "cell_type": "code",
   "execution_count": null,
   "metadata": {
    "collapsed": true
   },
   "outputs": [],
   "source": []
  }
 ],
 "metadata": {
  "anaconda-cloud": {},
  "kernelspec": {
   "display_name": "Python [Root]",
   "language": "python",
   "name": "Python [Root]"
  },
  "language_info": {
   "codemirror_mode": {
    "name": "ipython",
    "version": 3
   },
   "file_extension": ".py",
   "mimetype": "text/x-python",
   "name": "python",
   "nbconvert_exporter": "python",
   "pygments_lexer": "ipython3",
   "version": "3.5.2"
  }
 },
 "nbformat": 4,
 "nbformat_minor": 0
}
