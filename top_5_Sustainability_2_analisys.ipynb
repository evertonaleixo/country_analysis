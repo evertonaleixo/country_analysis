{
 "cells": [
  {
   "cell_type": "code",
   "execution_count": 1,
   "metadata": {
    "collapsed": true
   },
   "outputs": [],
   "source": [
    "import numpy as np\n",
    "import pandas as pd"
   ]
  },
  {
   "cell_type": "code",
   "execution_count": 2,
   "metadata": {
    "collapsed": false
   },
   "outputs": [],
   "source": [
    "data = pd.read_csv('./data/top_5_sustainability_2_1990-2015.csv')"
   ]
  },
  {
   "cell_type": "code",
   "execution_count": 3,
   "metadata": {
    "collapsed": false
   },
   "outputs": [
    {
     "data": {
      "text/html": [
       "<div>\n",
       "<table border=\"1\" class=\"dataframe\">\n",
       "  <thead>\n",
       "    <tr style=\"text-align: right;\">\n",
       "      <th></th>\n",
       "      <th>Ano</th>\n",
       "      <th>Austrália</th>\n",
       "      <th>Dinamarca</th>\n",
       "      <th>Alemanha</th>\n",
       "      <th>Noruega</th>\n",
       "      <th>Singapura</th>\n",
       "      <th>Suíça</th>\n",
       "      <th>Brasil</th>\n",
       "    </tr>\n",
       "  </thead>\n",
       "  <tbody>\n",
       "    <tr>\n",
       "      <th>0</th>\n",
       "      <td>1990</td>\n",
       "      <td>8.0</td>\n",
       "      <td>7.0</td>\n",
       "      <td>2.1</td>\n",
       "      <td>59.2</td>\n",
       "      <td>0.2</td>\n",
       "      <td>16.8</td>\n",
       "      <td>49.9</td>\n",
       "    </tr>\n",
       "    <tr>\n",
       "      <th>1</th>\n",
       "      <td>1995</td>\n",
       "      <td>8.2</td>\n",
       "      <td>7.5</td>\n",
       "      <td>2.3</td>\n",
       "      <td>60.0</td>\n",
       "      <td>0.5</td>\n",
       "      <td>17.9</td>\n",
       "      <td>46.1</td>\n",
       "    </tr>\n",
       "    <tr>\n",
       "      <th>2</th>\n",
       "      <td>2000</td>\n",
       "      <td>8.4</td>\n",
       "      <td>10.7</td>\n",
       "      <td>3.7</td>\n",
       "      <td>60.2</td>\n",
       "      <td>0.3</td>\n",
       "      <td>18.4</td>\n",
       "      <td>42.8</td>\n",
       "    </tr>\n",
       "    <tr>\n",
       "      <th>3</th>\n",
       "      <td>2005</td>\n",
       "      <td>6.7</td>\n",
       "      <td>16.1</td>\n",
       "      <td>6.8</td>\n",
       "      <td>58.6</td>\n",
       "      <td>0.5</td>\n",
       "      <td>19.0</td>\n",
       "      <td>46.3</td>\n",
       "    </tr>\n",
       "    <tr>\n",
       "      <th>4</th>\n",
       "      <td>2010</td>\n",
       "      <td>7.2</td>\n",
       "      <td>21.3</td>\n",
       "      <td>10.6</td>\n",
       "      <td>56.3</td>\n",
       "      <td>0.5</td>\n",
       "      <td>21.2</td>\n",
       "      <td>47.0</td>\n",
       "    </tr>\n",
       "    <tr>\n",
       "      <th>5</th>\n",
       "      <td>2011</td>\n",
       "      <td>7.5</td>\n",
       "      <td>24.0</td>\n",
       "      <td>11.6</td>\n",
       "      <td>56.6</td>\n",
       "      <td>0.5</td>\n",
       "      <td>21.3</td>\n",
       "      <td>45.5</td>\n",
       "    </tr>\n",
       "    <tr>\n",
       "      <th>6</th>\n",
       "      <td>2012</td>\n",
       "      <td>8.4</td>\n",
       "      <td>27.6</td>\n",
       "      <td>12.4</td>\n",
       "      <td>58.0</td>\n",
       "      <td>0.5</td>\n",
       "      <td>22.7</td>\n",
       "      <td>43.6</td>\n",
       "    </tr>\n",
       "  </tbody>\n",
       "</table>\n",
       "</div>"
      ],
      "text/plain": [
       "    Ano  Austrália   Dinamarca  Alemanha  Noruega  Singapura  Suíça  Brasil\n",
       "0  1990        8.0         7.0       2.1     59.2        0.2   16.8    49.9\n",
       "1  1995        8.2         7.5       2.3     60.0        0.5   17.9    46.1\n",
       "2  2000        8.4        10.7       3.7     60.2        0.3   18.4    42.8\n",
       "3  2005        6.7        16.1       6.8     58.6        0.5   19.0    46.3\n",
       "4  2010        7.2        21.3      10.6     56.3        0.5   21.2    47.0\n",
       "5  2011        7.5        24.0      11.6     56.6        0.5   21.3    45.5\n",
       "6  2012        8.4        27.6      12.4     58.0        0.5   22.7    43.6"
      ]
     },
     "execution_count": 3,
     "metadata": {},
     "output_type": "execute_result"
    }
   ],
   "source": [
    "data"
   ]
  },
  {
   "cell_type": "code",
   "execution_count": 4,
   "metadata": {
    "collapsed": false
   },
   "outputs": [],
   "source": [
    "import matplotlib.pyplot as plt\n",
    "\n",
    "% matplotlib inline"
   ]
  },
  {
   "cell_type": "code",
   "execution_count": 5,
   "metadata": {
    "collapsed": false
   },
   "outputs": [
    {
     "data": {
      "text/plain": [
       "<matplotlib.legend.Legend at 0x124585ac8>"
      ]
     },
     "execution_count": 5,
     "metadata": {},
     "output_type": "execute_result"
    },
    {
     "data": {
      "text/plain": [
       "<matplotlib.figure.Figure at 0x124585b00>"
      ]
     },
     "metadata": {},
     "output_type": "display_data"
    },
    {
     "data": {
      "image/png": "[encoded data removed]",
      "text/plain": [
       "<matplotlib.figure.Figure at 0x124595588>"
      ]
     },
     "metadata": {},
     "output_type": "display_data"
    }
   ],
   "source": [
    "plt.figure();\n",
    "data.plot(x='Ano', **{'fontsize':12}).legend(loc='center left', bbox_to_anchor=(1, 0.5))"
   ]
  },
  {
   "cell_type": "code",
   "execution_count": null,
   "metadata": {
    "collapsed": true
   },
   "outputs": [],
   "source": []
  }
 ],
 "metadata": {
  "anaconda-cloud": {},
  "kernelspec": {
   "display_name": "Python [Root]",
   "language": "python",
   "name": "Python [Root]"
  },
  "language_info": {
   "codemirror_mode": {
    "name": "ipython",
    "version": 3
   },
   "file_extension": ".py",
   "mimetype": "text/x-python",
   "name": "python",
   "nbconvert_exporter": "python",
   "pygments_lexer": "ipython3",
   "version": "3.5.2"
  }
 },
 "nbformat": 4,
 "nbformat_minor": 0
}
