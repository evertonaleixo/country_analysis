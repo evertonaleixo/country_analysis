{
 "cells": [
  {
   "cell_type": "code",
   "execution_count": 1,
   "metadata": {
    "collapsed": true
   },
   "outputs": [],
   "source": [
    "import numpy as np\n",
    "import pandas as pd"
   ]
  },
  {
   "cell_type": "code",
   "execution_count": 2,
   "metadata": {
    "collapsed": false
   },
   "outputs": [],
   "source": [
    "data = pd.read_csv('./data/top_5_pib_1990-2015.csv')"
   ]
  },
  {
   "cell_type": "code",
   "execution_count": 3,
   "metadata": {
    "collapsed": false
   },
   "outputs": [
    {
     "data": {
      "text/html": [
       "<div>\n",
       "<table border=\"1\" class=\"dataframe\">\n",
       "  <thead>\n",
       "    <tr style=\"text-align: right;\">\n",
       "      <th></th>\n",
       "      <th>Ano</th>\n",
       "      <th>Estados Unidos</th>\n",
       "      <th>China</th>\n",
       "      <th>Japão</th>\n",
       "      <th>Alemanha</th>\n",
       "      <th>França</th>\n",
       "      <th>Brasil</th>\n",
       "    </tr>\n",
       "  </thead>\n",
       "  <tbody>\n",
       "    <tr>\n",
       "      <th>0</th>\n",
       "      <td>2000</td>\n",
       "      <td>1.271306e+13</td>\n",
       "      <td>2.237081e+12</td>\n",
       "      <td>5.348931e+12</td>\n",
       "      <td>3.123908e+12</td>\n",
       "      <td>2.346484e+12</td>\n",
       "      <td>1.538707e+12</td>\n",
       "    </tr>\n",
       "    <tr>\n",
       "      <th>1</th>\n",
       "      <td>2001</td>\n",
       "      <td>1.283714e+13</td>\n",
       "      <td>2.423651e+12</td>\n",
       "      <td>5.370661e+12</td>\n",
       "      <td>3.176873e+12</td>\n",
       "      <td>2.392345e+12</td>\n",
       "      <td>1.560093e+12</td>\n",
       "    </tr>\n",
       "    <tr>\n",
       "      <th>2</th>\n",
       "      <td>2002</td>\n",
       "      <td>1.306642e+13</td>\n",
       "      <td>2.644946e+12</td>\n",
       "      <td>5.377004e+12</td>\n",
       "      <td>3.176873e+12</td>\n",
       "      <td>2.419102e+12</td>\n",
       "      <td>1.607728e+12</td>\n",
       "    </tr>\n",
       "    <tr>\n",
       "      <th>3</th>\n",
       "      <td>2003</td>\n",
       "      <td>1.343317e+13</td>\n",
       "      <td>2.910382e+12</td>\n",
       "      <td>5.459177e+12</td>\n",
       "      <td>3.154320e+12</td>\n",
       "      <td>2.438928e+12</td>\n",
       "      <td>1.626072e+12</td>\n",
       "    </tr>\n",
       "    <tr>\n",
       "      <th>4</th>\n",
       "      <td>2004</td>\n",
       "      <td>1.394171e+13</td>\n",
       "      <td>3.204658e+12</td>\n",
       "      <td>5.579538e+12</td>\n",
       "      <td>3.191225e+12</td>\n",
       "      <td>2.506887e+12</td>\n",
       "      <td>1.719732e+12</td>\n",
       "    </tr>\n",
       "    <tr>\n",
       "      <th>5</th>\n",
       "      <td>2005</td>\n",
       "      <td>1.440809e+13</td>\n",
       "      <td>3.569853e+12</td>\n",
       "      <td>5.672311e+12</td>\n",
       "      <td>3.213777e+12</td>\n",
       "      <td>2.547190e+12</td>\n",
       "      <td>1.774800e+12</td>\n",
       "    </tr>\n",
       "    <tr>\n",
       "      <th>6</th>\n",
       "      <td>2006</td>\n",
       "      <td>1.479230e+13</td>\n",
       "      <td>4.023920e+12</td>\n",
       "      <td>5.752857e+12</td>\n",
       "      <td>3.332692e+12</td>\n",
       "      <td>2.607684e+12</td>\n",
       "      <td>1.845116e+12</td>\n",
       "    </tr>\n",
       "    <tr>\n",
       "      <th>7</th>\n",
       "      <td>2007</td>\n",
       "      <td>1.505540e+13</td>\n",
       "      <td>4.596580e+12</td>\n",
       "      <td>5.848026e+12</td>\n",
       "      <td>3.441356e+12</td>\n",
       "      <td>2.669265e+12</td>\n",
       "      <td>1.957112e+12</td>\n",
       "    </tr>\n",
       "    <tr>\n",
       "      <th>8</th>\n",
       "      <td>2008</td>\n",
       "      <td>1.501149e+13</td>\n",
       "      <td>5.040347e+12</td>\n",
       "      <td>5.784079e+12</td>\n",
       "      <td>3.478602e+12</td>\n",
       "      <td>2.674478e+12</td>\n",
       "      <td>2.056814e+12</td>\n",
       "    </tr>\n",
       "    <tr>\n",
       "      <th>9</th>\n",
       "      <td>2009</td>\n",
       "      <td>1.459484e+13</td>\n",
       "      <td>5.514130e+12</td>\n",
       "      <td>5.470749e+12</td>\n",
       "      <td>3.283144e+12</td>\n",
       "      <td>2.595812e+12</td>\n",
       "      <td>2.054225e+12</td>\n",
       "    </tr>\n",
       "    <tr>\n",
       "      <th>10</th>\n",
       "      <td>2010</td>\n",
       "      <td>1.496437e+13</td>\n",
       "      <td>6.100620e+12</td>\n",
       "      <td>5.700098e+12</td>\n",
       "      <td>3.417095e+12</td>\n",
       "      <td>2.646837e+12</td>\n",
       "      <td>2.208872e+12</td>\n",
       "    </tr>\n",
       "    <tr>\n",
       "      <th>11</th>\n",
       "      <td>2011</td>\n",
       "      <td>1.520402e+13</td>\n",
       "      <td>6.682403e+12</td>\n",
       "      <td>5.693517e+12</td>\n",
       "      <td>3.542160e+12</td>\n",
       "      <td>2.701871e+12</td>\n",
       "      <td>2.296662e+12</td>\n",
       "    </tr>\n",
       "    <tr>\n",
       "      <th>12</th>\n",
       "      <td>2012</td>\n",
       "      <td>1.554216e+13</td>\n",
       "      <td>7.207390e+12</td>\n",
       "      <td>5.778636e+12</td>\n",
       "      <td>3.559587e+12</td>\n",
       "      <td>2.706807e+12</td>\n",
       "      <td>2.340784e+12</td>\n",
       "    </tr>\n",
       "    <tr>\n",
       "      <th>13</th>\n",
       "      <td>2013</td>\n",
       "      <td>1.580286e+13</td>\n",
       "      <td>7.766513e+12</td>\n",
       "      <td>5.894237e+12</td>\n",
       "      <td>3.577015e+12</td>\n",
       "      <td>2.722405e+12</td>\n",
       "      <td>2.411121e+12</td>\n",
       "    </tr>\n",
       "    <tr>\n",
       "      <th>14</th>\n",
       "      <td>2014</td>\n",
       "      <td>1.617746e+13</td>\n",
       "      <td>8.333287e+12</td>\n",
       "      <td>5.914022e+12</td>\n",
       "      <td>3.646040e+12</td>\n",
       "      <td>2.748202e+12</td>\n",
       "      <td>2.423272e+12</td>\n",
       "    </tr>\n",
       "    <tr>\n",
       "      <th>15</th>\n",
       "      <td>2015</td>\n",
       "      <td>1.664039e+13</td>\n",
       "      <td>8.908301e+12</td>\n",
       "      <td>5.986140e+12</td>\n",
       "      <td>3.709598e+12</td>\n",
       "      <td>2.777538e+12</td>\n",
       "      <td>2.331933e+12</td>\n",
       "    </tr>\n",
       "  </tbody>\n",
       "</table>\n",
       "</div>"
      ],
      "text/plain": [
       "     Ano  Estados Unidos         China         Japão      Alemanha  \\\n",
       "0   2000    1.271306e+13  2.237081e+12  5.348931e+12  3.123908e+12   \n",
       "1   2001    1.283714e+13  2.423651e+12  5.370661e+12  3.176873e+12   \n",
       "2   2002    1.306642e+13  2.644946e+12  5.377004e+12  3.176873e+12   \n",
       "3   2003    1.343317e+13  2.910382e+12  5.459177e+12  3.154320e+12   \n",
       "4   2004    1.394171e+13  3.204658e+12  5.579538e+12  3.191225e+12   \n",
       "5   2005    1.440809e+13  3.569853e+12  5.672311e+12  3.213777e+12   \n",
       "6   2006    1.479230e+13  4.023920e+12  5.752857e+12  3.332692e+12   \n",
       "7   2007    1.505540e+13  4.596580e+12  5.848026e+12  3.441356e+12   \n",
       "8   2008    1.501149e+13  5.040347e+12  5.784079e+12  3.478602e+12   \n",
       "9   2009    1.459484e+13  5.514130e+12  5.470749e+12  3.283144e+12   \n",
       "10  2010    1.496437e+13  6.100620e+12  5.700098e+12  3.417095e+12   \n",
       "11  2011    1.520402e+13  6.682403e+12  5.693517e+12  3.542160e+12   \n",
       "12  2012    1.554216e+13  7.207390e+12  5.778636e+12  3.559587e+12   \n",
       "13  2013    1.580286e+13  7.766513e+12  5.894237e+12  3.577015e+12   \n",
       "14  2014    1.617746e+13  8.333287e+12  5.914022e+12  3.646040e+12   \n",
       "15  2015    1.664039e+13  8.908301e+12  5.986140e+12  3.709598e+12   \n",
       "\n",
       "          França        Brasil  \n",
       "0   2.346484e+12  1.538707e+12  \n",
       "1   2.392345e+12  1.560093e+12  \n",
       "2   2.419102e+12  1.607728e+12  \n",
       "3   2.438928e+12  1.626072e+12  \n",
       "4   2.506887e+12  1.719732e+12  \n",
       "5   2.547190e+12  1.774800e+12  \n",
       "6   2.607684e+12  1.845116e+12  \n",
       "7   2.669265e+12  1.957112e+12  \n",
       "8   2.674478e+12  2.056814e+12  \n",
       "9   2.595812e+12  2.054225e+12  \n",
       "10  2.646837e+12  2.208872e+12  \n",
       "11  2.701871e+12  2.296662e+12  \n",
       "12  2.706807e+12  2.340784e+12  \n",
       "13  2.722405e+12  2.411121e+12  \n",
       "14  2.748202e+12  2.423272e+12  \n",
       "15  2.777538e+12  2.331933e+12  "
      ]
     },
     "execution_count": 3,
     "metadata": {},
     "output_type": "execute_result"
    }
   ],
   "source": [
    "data"
   ]
  },
  {
   "cell_type": "code",
   "execution_count": 4,
   "metadata": {
    "collapsed": false
   },
   "outputs": [],
   "source": [
    "import matplotlib.pyplot as plt\n",
    "\n",
    "% matplotlib inline"
   ]
  },
  {
   "cell_type": "code",
   "execution_count": 5,
   "metadata": {
    "collapsed": false
   },
   "outputs": [
    {
     "data": {
      "text/plain": [
       "<matplotlib.legend.Legend at 0x12455db00>"
      ]
     },
     "execution_count": 5,
     "metadata": {},
     "output_type": "execute_result"
    },
    {
     "data": {
      "text/plain": [
       "<matplotlib.figure.Figure at 0x12455db38>"
      ]
     },
     "metadata": {},
     "output_type": "display_data"
    },
    {
     "data": {
      "image/png": "[encoded data removed]",
      "text/plain": [
       "<matplotlib.figure.Figure at 0x12456c5c0>"
      ]
     },
     "metadata": {},
     "output_type": "display_data"
    }
   ],
   "source": [
    "plt.figure();\n",
    "data.plot(x='Ano', **{'fontsize':12}).legend(loc='center left', bbox_to_anchor=(1, 0.5))"
   ]
  },
  {
   "cell_type": "code",
   "execution_count": null,
   "metadata": {
    "collapsed": true
   },
   "outputs": [],
   "source": []
  }
 ],
 "metadata": {
  "anaconda-cloud": {},
  "kernelspec": {
   "display_name": "Python [Root]",
   "language": "python",
   "name": "Python [Root]"
  },
  "language_info": {
   "codemirror_mode": {
    "name": "ipython",
    "version": 3
   },
   "file_extension": ".py",
   "mimetype": "text/x-python",
   "name": "python",
   "nbconvert_exporter": "python",
   "pygments_lexer": "ipython3",
   "version": "3.5.2"
  }
 },
 "nbformat": 4,
 "nbformat_minor": 0
}
